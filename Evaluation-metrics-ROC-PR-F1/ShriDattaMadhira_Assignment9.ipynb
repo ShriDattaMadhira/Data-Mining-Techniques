{
 "cells": [
  {
   "cell_type": "code",
   "execution_count": 2,
   "id": "5bff5767",
   "metadata": {},
   "outputs": [],
   "source": [
    "from sklearn.datasets import load_breast_cancer\n",
    "\n",
    "data = load_breast_cancer()\n",
    "\n",
    "X = data.data\n",
    "y = data.target\n",
    "\n",
    "col_names = data.feature_names"
   ]
  },
  {
   "cell_type": "code",
   "execution_count": 3,
   "id": "7ee1e422",
   "metadata": {},
   "outputs": [
    {
     "data": {
      "text/plain": [
       "array([[1.799e+01, 1.038e+01, 1.228e+02, 1.001e+03, 1.184e-01, 2.776e-01,\n",
       "        3.001e-01, 1.471e-01, 2.419e-01, 7.871e-02, 1.095e+00, 9.053e-01,\n",
       "        8.589e+00, 1.534e+02, 6.399e-03, 4.904e-02, 5.373e-02, 1.587e-02,\n",
       "        3.003e-02, 6.193e-03, 2.538e+01, 1.733e+01, 1.846e+02, 2.019e+03,\n",
       "        1.622e-01, 6.656e-01, 7.119e-01, 2.654e-01, 4.601e-01, 1.189e-01],\n",
       "       [2.057e+01, 1.777e+01, 1.329e+02, 1.326e+03, 8.474e-02, 7.864e-02,\n",
       "        8.690e-02, 7.017e-02, 1.812e-01, 5.667e-02, 5.435e-01, 7.339e-01,\n",
       "        3.398e+00, 7.408e+01, 5.225e-03, 1.308e-02, 1.860e-02, 1.340e-02,\n",
       "        1.389e-02, 3.532e-03, 2.499e+01, 2.341e+01, 1.588e+02, 1.956e+03,\n",
       "        1.238e-01, 1.866e-01, 2.416e-01, 1.860e-01, 2.750e-01, 8.902e-02],\n",
       "       [1.969e+01, 2.125e+01, 1.300e+02, 1.203e+03, 1.096e-01, 1.599e-01,\n",
       "        1.974e-01, 1.279e-01, 2.069e-01, 5.999e-02, 7.456e-01, 7.869e-01,\n",
       "        4.585e+00, 9.403e+01, 6.150e-03, 4.006e-02, 3.832e-02, 2.058e-02,\n",
       "        2.250e-02, 4.571e-03, 2.357e+01, 2.553e+01, 1.525e+02, 1.709e+03,\n",
       "        1.444e-01, 4.245e-01, 4.504e-01, 2.430e-01, 3.613e-01, 8.758e-02],\n",
       "       [1.142e+01, 2.038e+01, 7.758e+01, 3.861e+02, 1.425e-01, 2.839e-01,\n",
       "        2.414e-01, 1.052e-01, 2.597e-01, 9.744e-02, 4.956e-01, 1.156e+00,\n",
       "        3.445e+00, 2.723e+01, 9.110e-03, 7.458e-02, 5.661e-02, 1.867e-02,\n",
       "        5.963e-02, 9.208e-03, 1.491e+01, 2.650e+01, 9.887e+01, 5.677e+02,\n",
       "        2.098e-01, 8.663e-01, 6.869e-01, 2.575e-01, 6.638e-01, 1.730e-01],\n",
       "       [2.029e+01, 1.434e+01, 1.351e+02, 1.297e+03, 1.003e-01, 1.328e-01,\n",
       "        1.980e-01, 1.043e-01, 1.809e-01, 5.883e-02, 7.572e-01, 7.813e-01,\n",
       "        5.438e+00, 9.444e+01, 1.149e-02, 2.461e-02, 5.688e-02, 1.885e-02,\n",
       "        1.756e-02, 5.115e-03, 2.254e+01, 1.667e+01, 1.522e+02, 1.575e+03,\n",
       "        1.374e-01, 2.050e-01, 4.000e-01, 1.625e-01, 2.364e-01, 7.678e-02]])"
      ]
     },
     "execution_count": 3,
     "metadata": {},
     "output_type": "execute_result"
    }
   ],
   "source": [
    "X[:5]"
   ]
  },
  {
   "cell_type": "code",
   "execution_count": 4,
   "id": "6478ae63",
   "metadata": {},
   "outputs": [
    {
     "data": {
      "text/plain": [
       "array([0, 0, 0, 0, 0])"
      ]
     },
     "execution_count": 4,
     "metadata": {},
     "output_type": "execute_result"
    }
   ],
   "source": [
    "y[:5]"
   ]
  },
  {
   "cell_type": "code",
   "execution_count": 5,
   "id": "85b491c5",
   "metadata": {},
   "outputs": [
    {
     "data": {
      "text/plain": [
       "array(['mean radius', 'mean texture', 'mean perimeter', 'mean area',\n",
       "       'mean smoothness', 'mean compactness', 'mean concavity',\n",
       "       'mean concave points', 'mean symmetry', 'mean fractal dimension',\n",
       "       'radius error', 'texture error', 'perimeter error', 'area error',\n",
       "       'smoothness error', 'compactness error', 'concavity error',\n",
       "       'concave points error', 'symmetry error',\n",
       "       'fractal dimension error', 'worst radius', 'worst texture',\n",
       "       'worst perimeter', 'worst area', 'worst smoothness',\n",
       "       'worst compactness', 'worst concavity', 'worst concave points',\n",
       "       'worst symmetry', 'worst fractal dimension'], dtype='<U23')"
      ]
     },
     "execution_count": 5,
     "metadata": {},
     "output_type": "execute_result"
    }
   ],
   "source": [
    "col_names"
   ]
  },
  {
   "cell_type": "markdown",
   "id": "34eb57d5",
   "metadata": {},
   "source": [
    "### Q1. Split the dataset into training set and test set (80, 20)."
   ]
  },
  {
   "cell_type": "code",
   "execution_count": 6,
   "id": "d99017c7",
   "metadata": {},
   "outputs": [],
   "source": [
    "from sklearn.model_selection import train_test_split\n",
    "\n",
    "X_train, X_test, y_train, y_test = train_test_split(X, y, train_size=0.80, test_size=0.20)"
   ]
  },
  {
   "cell_type": "markdown",
   "id": "6fa7ac69",
   "metadata": {},
   "source": [
    "### Q2. Using scikit-learn’s DecisionTreeClassifier, train a supervised learning model that can be used to generate predictions for your data."
   ]
  },
  {
   "cell_type": "code",
   "execution_count": 7,
   "id": "f09c067d",
   "metadata": {},
   "outputs": [
    {
     "name": "stdout",
     "output_type": "stream",
     "text": [
      "Depth of the classifier:  7\n",
      "Number of leaves in the classifier:  21\n",
      "Feature importance for the classifier:  [0.         0.01098901 0.         0.         0.0043956  0.\n",
      " 0.         0.0364979  0.003663   0.         0.         0.\n",
      " 0.00832591 0.00211506 0.00068266 0.         0.         0.01333839\n",
      " 0.         0.00424791 0.         0.00544723 0.33716141 0.\n",
      " 0.01072882 0.         0.0043061  0.02503976 0.         0.        ]\n"
     ]
    }
   ],
   "source": [
    "from sklearn.tree import DecisionTreeClassifier\n",
    "\n",
    "dtc = DecisionTreeClassifier().fit(X_train, y_train)\n",
    "predict = dtc.predict(X_test)\n",
    "\n",
    "Td = dtc.get_depth()\n",
    "print(\"Depth of the classifier: \", Td)\n",
    "print(\"Number of leaves in the classifier: \", dtc.get_n_leaves())\n",
    "feature_importances = dtc.tree_.compute_feature_importances(normalize=False)\n",
    "print(\"Feature importance for the classifier: \", str(feature_importances)) "
   ]
  },
  {
   "cell_type": "markdown",
   "id": "8fa64f61",
   "metadata": {},
   "source": [
    "### Q3. Similarly as in previous step, train another Decision Tree Classifier - but in this case set the maximum depth of the tree to 1 (max_depth = 1). Use the same training and test set as you used for the Decision Tree in the previous step."
   ]
  },
  {
   "cell_type": "code",
   "execution_count": 8,
   "id": "3e88bd75",
   "metadata": {},
   "outputs": [
    {
     "name": "stdout",
     "output_type": "stream",
     "text": [
      "Depth of the classifier:  1\n",
      "Number of leaves in the classifier:  2\n",
      "Feature importance for the classifier:  [0.         0.         0.         0.         0.         0.\n",
      " 0.         0.         0.         0.         0.         0.\n",
      " 0.         0.         0.         0.         0.         0.\n",
      " 0.         0.         0.         0.         0.33166691 0.\n",
      " 0.         0.         0.         0.         0.         0.        ]\n"
     ]
    }
   ],
   "source": [
    "dtc1 = DecisionTreeClassifier(max_depth=1).fit(X_train, y_train)\n",
    "predict1 = dtc1.predict(X_test)\n",
    "\n",
    "Td = dtc1.get_depth()\n",
    "print(\"Depth of the classifier: \", Td)\n",
    "print(\"Number of leaves in the classifier: \", dtc1.get_n_leaves()) \n",
    "feature_importances1 = dtc1.tree_.compute_feature_importances(normalize=False)\n",
    "print(\"Feature importance for the classifier: \", str(feature_importances1)) "
   ]
  },
  {
   "cell_type": "markdown",
   "id": "9cb746f1",
   "metadata": {},
   "source": [
    "### Q4. Report on the six evaluation metrics listed in objective for both the models, and compare their results."
   ]
  },
  {
   "cell_type": "markdown",
   "id": "0a6bbfcf",
   "metadata": {},
   "source": [
    "### Model 1 - Decision Tree with no depth restriction"
   ]
  },
  {
   "cell_type": "code",
   "execution_count": 9,
   "id": "c1d85903",
   "metadata": {},
   "outputs": [],
   "source": [
    "from sklearn.metrics import accuracy_score, confusion_matrix, classification_report\n",
    "from sklearn.metrics import precision_score, recall_score, PrecisionRecallDisplay\n",
    "from sklearn.metrics import RocCurveDisplay"
   ]
  },
  {
   "cell_type": "code",
   "execution_count": 14,
   "id": "a36014b9",
   "metadata": {},
   "outputs": [
    {
     "name": "stdout",
     "output_type": "stream",
     "text": [
      "Accuracy score on test data for this model:  0.9210526315789473 \n",
      "\n",
      "Precision for this model:  0.9696969696969697 \n",
      "\n",
      "Recall for this model:  0.9014084507042254 \n",
      "\n",
      "Classification Report for this model:\n",
      "               precision    recall  f1-score   support\n",
      "\n",
      "           0       0.85      0.95      0.90        43\n",
      "           1       0.97      0.90      0.93        71\n",
      "\n",
      "    accuracy                           0.92       114\n",
      "   macro avg       0.91      0.93      0.92       114\n",
      "weighted avg       0.93      0.92      0.92       114\n",
      " \n",
      "\n",
      "Confusion Matrix for this model:\n",
      " [[41  2]\n",
      " [ 7 64]] \n",
      "\n"
     ]
    },
    {
     "data": {
      "image/png": "[encoded data removed]",
      "text/plain": [
       "<Figure size 432x288 with 1 Axes>"
      ]
     },
     "metadata": {
      "needs_background": "light"
     },
     "output_type": "display_data"
    },
    {
     "data": {
      "image/png": "[encoded data removed]",
      "text/plain": [
       "<Figure size 432x288 with 1 Axes>"
      ]
     },
     "metadata": {
      "needs_background": "light"
     },
     "output_type": "display_data"
    }
   ],
   "source": [
    "# Accuracy of model on test data\n",
    "print(\"Accuracy score on test data for this model: \", accuracy_score(y_test, predict), \"\\n\")\n",
    "\n",
    "# Precision and Recall values\n",
    "print(\"Precision for this model: \", precision_score(y_test, predict), \"\\n\")\n",
    "print(\"Recall for this model: \", recall_score(y_test, predict), \"\\n\")\n",
    "\n",
    "# Classification Report\n",
    "print(\"Classification Report for this model:\\n\", classification_report(y_test, predict), \"\\n\")\n",
    "\n",
    "# Confusion Matrix\n",
    "print(\"Confusion Matrix for this model:\\n\", confusion_matrix(y_test, predict), \"\\n\")\n",
    "\n",
    "# ROC Curve\n",
    "roc_display = RocCurveDisplay.from_predictions(y_test, predict, name=\"No Constriants DT\")\n",
    "\n",
    "\n",
    "# Precision Recall Curve\n",
    "pr_display = PrecisionRecallDisplay.from_predictions(y_test, predict,  \n",
    "                                                   name=\"No Constraints DT\") "
   ]
  },
  {
   "cell_type": "markdown",
   "id": "62ada0c2",
   "metadata": {},
   "source": [
    "### Model 2 - Decision Tree Classifier with max_depth = 1"
   ]
  },
  {
   "cell_type": "code",
   "execution_count": 13,
   "id": "0d19de3d",
   "metadata": {
    "scrolled": false
   },
   "outputs": [
    {
     "name": "stdout",
     "output_type": "stream",
     "text": [
      "Accuracy score on test data for this model:  0.8947368421052632 \n",
      "\n",
      "Precision for this model:  0.927536231884058 \n",
      "\n",
      "Recall for this model:  0.9014084507042254 \n",
      "\n",
      "Classification Report for this model:\n",
      "               precision    recall  f1-score   support\n",
      "\n",
      "           0       0.84      0.88      0.86        43\n",
      "           1       0.93      0.90      0.91        71\n",
      "\n",
      "    accuracy                           0.89       114\n",
      "   macro avg       0.89      0.89      0.89       114\n",
      "weighted avg       0.90      0.89      0.90       114\n",
      " \n",
      "\n",
      "Confusion Matrix for this model:\n",
      " [[38  5]\n",
      " [ 7 64]] \n",
      "\n",
      "ROC Curve and Precision Recall Curve\n",
      "\n"
     ]
    },
    {
     "data": {
      "image/png": "[encoded data removed]",
      "text/plain": [
       "<Figure size 432x288 with 1 Axes>"
      ]
     },
     "metadata": {
      "needs_background": "light"
     },
     "output_type": "display_data"
    },
    {
     "data": {
      "image/png": "[encoded data removed]",
      "text/plain": [
       "<Figure size 432x288 with 1 Axes>"
      ]
     },
     "metadata": {
      "needs_background": "light"
     },
     "output_type": "display_data"
    }
   ],
   "source": [
    "# Accuracy of model on test data\n",
    "print(\"Accuracy score on test data for this model: \", accuracy_score(y_test, predict1), \"\\n\")\n",
    "\n",
    "# Precision and Recall values\n",
    "print(\"Precision for this model: \", precision_score(y_test, predict1), \"\\n\")\n",
    "print(\"Recall for this model: \", recall_score(y_test, predict1), \"\\n\")\n",
    "\n",
    "# Classification Report\n",
    "print(\"Classification Report for this model:\\n\", classification_report(y_test, predict1), \"\\n\")\n",
    "\n",
    "# Confusion Matrix\n",
    "print(\"Confusion Matrix for this model:\\n\", confusion_matrix(y_test, predict1), \"\\n\")\n",
    "\n",
    "# ROC Curve\n",
    "print(\"ROC Curve and Precision Recall Curve\\n\")\n",
    "roc_display = RocCurveDisplay.from_predictions(y_test, predict1, name=\"max_depth=1 DT\")\n",
    "\n",
    "# Precision Recall Curve\n",
    "pr_display = PrecisionRecallDisplay.from_predictions(y_test, predict1,  \n",
    "                                                   name=\"max_depth=1 DT\") "
   ]
  },
  {
   "cell_type": "markdown",
   "id": "c7e750ea",
   "metadata": {},
   "source": [
    "### Comparing both the models\n",
    "\n",
    "The dataset we took is a binary classification dataset with two classes as target classes. Coming to the comparision of results between the two models, we can see that, although the accuracy for depth 1 decision tree is less, there isn't much difference between both the models. The same goes for precision and recall.\n",
    "\n",
    "But from the ROC curve, we can see that the number of False Positive rates reduced from depth 1 model to full range model. More data is classified correctly."
   ]
  }
 ],
 "metadata": {
  "kernelspec": {
   "display_name": "Python 3 (ipykernel)",
   "language": "python",
   "name": "python3"
  },
  "language_info": {
   "codemirror_mode": {
    "name": "ipython",
    "version": 3
   },
   "file_extension": ".py",
   "mimetype": "text/x-python",
   "name": "python",
   "nbconvert_exporter": "python",
   "pygments_lexer": "ipython3",
   "version": "3.9.2"
  }
 },
 "nbformat": 4,
 "nbformat_minor": 5
}
