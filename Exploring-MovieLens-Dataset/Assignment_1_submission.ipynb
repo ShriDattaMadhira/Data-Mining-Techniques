{
 "cells": [
  {
   "cell_type": "code",
   "execution_count": 1,
   "id": "d6c2b7f6",
   "metadata": {},
   "outputs": [
    {
     "name": "stdout",
     "output_type": "stream",
     "text": [
      "Populating the interactive namespace from numpy and matplotlib\n"
     ]
    }
   ],
   "source": [
    "import pandas as pd\n",
    "import numpy as np\n",
    "from collections import defaultdict\n",
    "%pylab inline\n",
    "import matplotlib.pyplot as plt"
   ]
  },
  {
   "cell_type": "code",
   "execution_count": 2,
   "id": "d169bab2",
   "metadata": {},
   "outputs": [],
   "source": [
    "unames = ['user_id', 'gender', 'age', 'occupation', 'zip']\n",
    "users = pd.read_table('ml-1m/users.dat', sep='::', header=None, names=unames, engine='python', encoding='ISO-8859-1')\n",
    "\n",
    "rnames = ['user_id', 'movie_id', 'rating', 'timestamp']\n",
    "ratings = pd.read_table('ml-1m/ratings.dat', sep='::', header=None, names=rnames, engine='python', encoding='ISO-8859-1')\n",
    "\n",
    "mnames = ['movie_id', 'title', 'genres']\n",
    "movies = pd.read_table('ml-1m/movies.dat', sep='::', header=None, names=mnames, engine='python', encoding='ISO-8859-1')"
   ]
  },
  {
   "cell_type": "code",
   "execution_count": 3,
   "id": "ae5ceb5e",
   "metadata": {},
   "outputs": [
    {
     "data": {
      "text/html": [
       "<div>\n",
       "<style scoped>\n",
       "    .dataframe tbody tr th:only-of-type {\n",
       "        vertical-align: middle;\n",
       "    }\n",
       "\n",
       "    .dataframe tbody tr th {\n",
       "        vertical-align: top;\n",
       "    }\n",
       "\n",
       "    .dataframe thead th {\n",
       "        text-align: right;\n",
       "    }\n",
       "</style>\n",
       "<table border=\"1\" class=\"dataframe\">\n",
       "  <thead>\n",
       "    <tr style=\"text-align: right;\">\n",
       "      <th></th>\n",
       "      <th>user_id</th>\n",
       "      <th>gender</th>\n",
       "      <th>age</th>\n",
       "      <th>occupation</th>\n",
       "      <th>zip</th>\n",
       "    </tr>\n",
       "  </thead>\n",
       "  <tbody>\n",
       "    <tr>\n",
       "      <th>0</th>\n",
       "      <td>1</td>\n",
       "      <td>F</td>\n",
       "      <td>1</td>\n",
       "      <td>10</td>\n",
       "      <td>48067</td>\n",
       "    </tr>\n",
       "    <tr>\n",
       "      <th>1</th>\n",
       "      <td>2</td>\n",
       "      <td>M</td>\n",
       "      <td>56</td>\n",
       "      <td>16</td>\n",
       "      <td>70072</td>\n",
       "    </tr>\n",
       "    <tr>\n",
       "      <th>2</th>\n",
       "      <td>3</td>\n",
       "      <td>M</td>\n",
       "      <td>25</td>\n",
       "      <td>15</td>\n",
       "      <td>55117</td>\n",
       "    </tr>\n",
       "    <tr>\n",
       "      <th>3</th>\n",
       "      <td>4</td>\n",
       "      <td>M</td>\n",
       "      <td>45</td>\n",
       "      <td>7</td>\n",
       "      <td>02460</td>\n",
       "    </tr>\n",
       "    <tr>\n",
       "      <th>4</th>\n",
       "      <td>5</td>\n",
       "      <td>M</td>\n",
       "      <td>25</td>\n",
       "      <td>20</td>\n",
       "      <td>55455</td>\n",
       "    </tr>\n",
       "  </tbody>\n",
       "</table>\n",
       "</div>"
      ],
      "text/plain": [
       "   user_id gender  age  occupation    zip\n",
       "0        1      F    1          10  48067\n",
       "1        2      M   56          16  70072\n",
       "2        3      M   25          15  55117\n",
       "3        4      M   45           7  02460\n",
       "4        5      M   25          20  55455"
      ]
     },
     "execution_count": 3,
     "metadata": {},
     "output_type": "execute_result"
    }
   ],
   "source": [
    "users.head()"
   ]
  },
  {
   "cell_type": "code",
   "execution_count": 4,
   "id": "fbb5a67e",
   "metadata": {},
   "outputs": [
    {
     "data": {
      "text/html": [
       "<div>\n",
       "<style scoped>\n",
       "    .dataframe tbody tr th:only-of-type {\n",
       "        vertical-align: middle;\n",
       "    }\n",
       "\n",
       "    .dataframe tbody tr th {\n",
       "        vertical-align: top;\n",
       "    }\n",
       "\n",
       "    .dataframe thead th {\n",
       "        text-align: right;\n",
       "    }\n",
       "</style>\n",
       "<table border=\"1\" class=\"dataframe\">\n",
       "  <thead>\n",
       "    <tr style=\"text-align: right;\">\n",
       "      <th></th>\n",
       "      <th>user_id</th>\n",
       "      <th>movie_id</th>\n",
       "      <th>rating</th>\n",
       "      <th>timestamp</th>\n",
       "    </tr>\n",
       "  </thead>\n",
       "  <tbody>\n",
       "    <tr>\n",
       "      <th>0</th>\n",
       "      <td>1</td>\n",
       "      <td>1193</td>\n",
       "      <td>5</td>\n",
       "      <td>978300760</td>\n",
       "    </tr>\n",
       "    <tr>\n",
       "      <th>1</th>\n",
       "      <td>1</td>\n",
       "      <td>661</td>\n",
       "      <td>3</td>\n",
       "      <td>978302109</td>\n",
       "    </tr>\n",
       "    <tr>\n",
       "      <th>2</th>\n",
       "      <td>1</td>\n",
       "      <td>914</td>\n",
       "      <td>3</td>\n",
       "      <td>978301968</td>\n",
       "    </tr>\n",
       "    <tr>\n",
       "      <th>3</th>\n",
       "      <td>1</td>\n",
       "      <td>3408</td>\n",
       "      <td>4</td>\n",
       "      <td>978300275</td>\n",
       "    </tr>\n",
       "    <tr>\n",
       "      <th>4</th>\n",
       "      <td>1</td>\n",
       "      <td>2355</td>\n",
       "      <td>5</td>\n",
       "      <td>978824291</td>\n",
       "    </tr>\n",
       "  </tbody>\n",
       "</table>\n",
       "</div>"
      ],
      "text/plain": [
       "   user_id  movie_id  rating  timestamp\n",
       "0        1      1193       5  978300760\n",
       "1        1       661       3  978302109\n",
       "2        1       914       3  978301968\n",
       "3        1      3408       4  978300275\n",
       "4        1      2355       5  978824291"
      ]
     },
     "execution_count": 4,
     "metadata": {},
     "output_type": "execute_result"
    }
   ],
   "source": [
    "ratings.head()"
   ]
  },
  {
   "cell_type": "code",
   "execution_count": 5,
   "id": "b75cdc7d",
   "metadata": {},
   "outputs": [
    {
     "data": {
      "text/html": [
       "<div>\n",
       "<style scoped>\n",
       "    .dataframe tbody tr th:only-of-type {\n",
       "        vertical-align: middle;\n",
       "    }\n",
       "\n",
       "    .dataframe tbody tr th {\n",
       "        vertical-align: top;\n",
       "    }\n",
       "\n",
       "    .dataframe thead th {\n",
       "        text-align: right;\n",
       "    }\n",
       "</style>\n",
       "<table border=\"1\" class=\"dataframe\">\n",
       "  <thead>\n",
       "    <tr style=\"text-align: right;\">\n",
       "      <th></th>\n",
       "      <th>movie_id</th>\n",
       "      <th>title</th>\n",
       "      <th>genres</th>\n",
       "      <th>year</th>\n",
       "    </tr>\n",
       "  </thead>\n",
       "  <tbody>\n",
       "    <tr>\n",
       "      <th>0</th>\n",
       "      <td>1</td>\n",
       "      <td>Toy Story (1995)</td>\n",
       "      <td>Animation|Children's|Comedy</td>\n",
       "      <td>1995</td>\n",
       "    </tr>\n",
       "    <tr>\n",
       "      <th>1</th>\n",
       "      <td>2</td>\n",
       "      <td>Jumanji (1995)</td>\n",
       "      <td>Adventure|Children's|Fantasy</td>\n",
       "      <td>1995</td>\n",
       "    </tr>\n",
       "    <tr>\n",
       "      <th>2</th>\n",
       "      <td>3</td>\n",
       "      <td>Grumpier Old Men (1995)</td>\n",
       "      <td>Comedy|Romance</td>\n",
       "      <td>1995</td>\n",
       "    </tr>\n",
       "    <tr>\n",
       "      <th>3</th>\n",
       "      <td>4</td>\n",
       "      <td>Waiting to Exhale (1995)</td>\n",
       "      <td>Comedy|Drama</td>\n",
       "      <td>1995</td>\n",
       "    </tr>\n",
       "    <tr>\n",
       "      <th>4</th>\n",
       "      <td>5</td>\n",
       "      <td>Father of the Bride Part II (1995)</td>\n",
       "      <td>Comedy</td>\n",
       "      <td>1995</td>\n",
       "    </tr>\n",
       "  </tbody>\n",
       "</table>\n",
       "</div>"
      ],
      "text/plain": [
       "   movie_id                               title                        genres  \\\n",
       "0         1                    Toy Story (1995)   Animation|Children's|Comedy   \n",
       "1         2                      Jumanji (1995)  Adventure|Children's|Fantasy   \n",
       "2         3             Grumpier Old Men (1995)                Comedy|Romance   \n",
       "3         4            Waiting to Exhale (1995)                  Comedy|Drama   \n",
       "4         5  Father of the Bride Part II (1995)                        Comedy   \n",
       "\n",
       "   year  \n",
       "0  1995  \n",
       "1  1995  \n",
       "2  1995  \n",
       "3  1995  \n",
       "4  1995  "
      ]
     },
     "execution_count": 5,
     "metadata": {},
     "output_type": "execute_result"
    }
   ],
   "source": [
    "movies['year'] = movies['title'].str.extract('\\((\\d{4})\\)', expand=False)\n",
    "# movies['year'] = pd.to_numeric(movies['year'])\n",
    "movies.head()"
   ]
  },
  {
   "cell_type": "code",
   "execution_count": 7,
   "id": "089fdda7",
   "metadata": {},
   "outputs": [
    {
     "name": "stdout",
     "output_type": "stream",
     "text": [
      "['Animation', \"Children's\", 'Comedy', 'Adventure', 'Fantasy', 'Romance', 'Drama', 'Action', 'Crime', 'Thriller', 'Horror', 'Sci-Fi', 'Documentary', 'War', 'Musical', 'Mystery', 'Film-Noir', 'Western']  |  18\n"
     ]
    }
   ],
   "source": [
    "genres_list = []\n",
    "for genres in movies['genres']:\n",
    "    for genre in genres.split('|'):\n",
    "        if genre not in genres_list:\n",
    "            genres_list.append(genre)\n",
    "print(genres_list, \" | \", len(genres_list))"
   ]
  },
  {
   "cell_type": "code",
   "execution_count": 8,
   "id": "508ca64f",
   "metadata": {
    "scrolled": true
   },
   "outputs": [
    {
     "data": {
      "text/html": [
       "<div>\n",
       "<style scoped>\n",
       "    .dataframe tbody tr th:only-of-type {\n",
       "        vertical-align: middle;\n",
       "    }\n",
       "\n",
       "    .dataframe tbody tr th {\n",
       "        vertical-align: top;\n",
       "    }\n",
       "\n",
       "    .dataframe thead th {\n",
       "        text-align: right;\n",
       "    }\n",
       "</style>\n",
       "<table border=\"1\" class=\"dataframe\">\n",
       "  <thead>\n",
       "    <tr style=\"text-align: right;\">\n",
       "      <th></th>\n",
       "      <th>user_id</th>\n",
       "      <th>gender</th>\n",
       "      <th>age</th>\n",
       "      <th>occupation</th>\n",
       "      <th>zip</th>\n",
       "      <th>movie_id</th>\n",
       "      <th>rating</th>\n",
       "      <th>timestamp</th>\n",
       "      <th>title</th>\n",
       "      <th>genres</th>\n",
       "      <th>year</th>\n",
       "    </tr>\n",
       "  </thead>\n",
       "  <tbody>\n",
       "    <tr>\n",
       "      <th>0</th>\n",
       "      <td>1</td>\n",
       "      <td>F</td>\n",
       "      <td>1</td>\n",
       "      <td>10</td>\n",
       "      <td>48067</td>\n",
       "      <td>1193</td>\n",
       "      <td>5</td>\n",
       "      <td>978300760</td>\n",
       "      <td>One Flew Over the Cuckoo's Nest (1975)</td>\n",
       "      <td>Drama</td>\n",
       "      <td>1975</td>\n",
       "    </tr>\n",
       "    <tr>\n",
       "      <th>1</th>\n",
       "      <td>2</td>\n",
       "      <td>M</td>\n",
       "      <td>56</td>\n",
       "      <td>16</td>\n",
       "      <td>70072</td>\n",
       "      <td>1193</td>\n",
       "      <td>5</td>\n",
       "      <td>978298413</td>\n",
       "      <td>One Flew Over the Cuckoo's Nest (1975)</td>\n",
       "      <td>Drama</td>\n",
       "      <td>1975</td>\n",
       "    </tr>\n",
       "    <tr>\n",
       "      <th>2</th>\n",
       "      <td>12</td>\n",
       "      <td>M</td>\n",
       "      <td>25</td>\n",
       "      <td>12</td>\n",
       "      <td>32793</td>\n",
       "      <td>1193</td>\n",
       "      <td>4</td>\n",
       "      <td>978220179</td>\n",
       "      <td>One Flew Over the Cuckoo's Nest (1975)</td>\n",
       "      <td>Drama</td>\n",
       "      <td>1975</td>\n",
       "    </tr>\n",
       "    <tr>\n",
       "      <th>3</th>\n",
       "      <td>15</td>\n",
       "      <td>M</td>\n",
       "      <td>25</td>\n",
       "      <td>7</td>\n",
       "      <td>22903</td>\n",
       "      <td>1193</td>\n",
       "      <td>4</td>\n",
       "      <td>978199279</td>\n",
       "      <td>One Flew Over the Cuckoo's Nest (1975)</td>\n",
       "      <td>Drama</td>\n",
       "      <td>1975</td>\n",
       "    </tr>\n",
       "    <tr>\n",
       "      <th>4</th>\n",
       "      <td>17</td>\n",
       "      <td>M</td>\n",
       "      <td>50</td>\n",
       "      <td>1</td>\n",
       "      <td>95350</td>\n",
       "      <td>1193</td>\n",
       "      <td>5</td>\n",
       "      <td>978158471</td>\n",
       "      <td>One Flew Over the Cuckoo's Nest (1975)</td>\n",
       "      <td>Drama</td>\n",
       "      <td>1975</td>\n",
       "    </tr>\n",
       "  </tbody>\n",
       "</table>\n",
       "</div>"
      ],
      "text/plain": [
       "   user_id gender  age  occupation    zip  movie_id  rating  timestamp  \\\n",
       "0        1      F    1          10  48067      1193       5  978300760   \n",
       "1        2      M   56          16  70072      1193       5  978298413   \n",
       "2       12      M   25          12  32793      1193       4  978220179   \n",
       "3       15      M   25           7  22903      1193       4  978199279   \n",
       "4       17      M   50           1  95350      1193       5  978158471   \n",
       "\n",
       "                                    title genres  year  \n",
       "0  One Flew Over the Cuckoo's Nest (1975)  Drama  1975  \n",
       "1  One Flew Over the Cuckoo's Nest (1975)  Drama  1975  \n",
       "2  One Flew Over the Cuckoo's Nest (1975)  Drama  1975  \n",
       "3  One Flew Over the Cuckoo's Nest (1975)  Drama  1975  \n",
       "4  One Flew Over the Cuckoo's Nest (1975)  Drama  1975  "
      ]
     },
     "execution_count": 8,
     "metadata": {},
     "output_type": "execute_result"
    }
   ],
   "source": [
    "merged = pd.merge(pd.merge(users, ratings), movies)\n",
    "merged.head()"
   ]
  },
  {
   "cell_type": "markdown",
   "id": "8cfbf16f",
   "metadata": {},
   "source": [
    "QUESTION - 1:\n",
    "\n",
    "An aggregate on the number of rating done for each particular genre."
   ]
  },
  {
   "cell_type": "code",
   "execution_count": 10,
   "id": "ecc1b8d7",
   "metadata": {},
   "outputs": [
    {
     "data": {
      "text/html": [
       "<div>\n",
       "<style scoped>\n",
       "    .dataframe tbody tr th:only-of-type {\n",
       "        vertical-align: middle;\n",
       "    }\n",
       "\n",
       "    .dataframe tbody tr th {\n",
       "        vertical-align: top;\n",
       "    }\n",
       "\n",
       "    .dataframe thead th {\n",
       "        text-align: right;\n",
       "    }\n",
       "</style>\n",
       "<table border=\"1\" class=\"dataframe\">\n",
       "  <thead>\n",
       "    <tr style=\"text-align: right;\">\n",
       "      <th></th>\n",
       "      <th>Genre</th>\n",
       "      <th>Count</th>\n",
       "    </tr>\n",
       "  </thead>\n",
       "  <tbody>\n",
       "    <tr>\n",
       "      <th>0</th>\n",
       "      <td>Animation</td>\n",
       "      <td>43293</td>\n",
       "    </tr>\n",
       "    <tr>\n",
       "      <th>1</th>\n",
       "      <td>Children's</td>\n",
       "      <td>72186</td>\n",
       "    </tr>\n",
       "    <tr>\n",
       "      <th>2</th>\n",
       "      <td>Comedy</td>\n",
       "      <td>356580</td>\n",
       "    </tr>\n",
       "    <tr>\n",
       "      <th>3</th>\n",
       "      <td>Adventure</td>\n",
       "      <td>133953</td>\n",
       "    </tr>\n",
       "    <tr>\n",
       "      <th>4</th>\n",
       "      <td>Fantasy</td>\n",
       "      <td>36301</td>\n",
       "    </tr>\n",
       "    <tr>\n",
       "      <th>5</th>\n",
       "      <td>Romance</td>\n",
       "      <td>147523</td>\n",
       "    </tr>\n",
       "    <tr>\n",
       "      <th>6</th>\n",
       "      <td>Drama</td>\n",
       "      <td>354529</td>\n",
       "    </tr>\n",
       "    <tr>\n",
       "      <th>7</th>\n",
       "      <td>Action</td>\n",
       "      <td>257457</td>\n",
       "    </tr>\n",
       "    <tr>\n",
       "      <th>8</th>\n",
       "      <td>Crime</td>\n",
       "      <td>79541</td>\n",
       "    </tr>\n",
       "    <tr>\n",
       "      <th>9</th>\n",
       "      <td>Thriller</td>\n",
       "      <td>189680</td>\n",
       "    </tr>\n",
       "    <tr>\n",
       "      <th>10</th>\n",
       "      <td>Horror</td>\n",
       "      <td>76386</td>\n",
       "    </tr>\n",
       "    <tr>\n",
       "      <th>11</th>\n",
       "      <td>Sci-Fi</td>\n",
       "      <td>157294</td>\n",
       "    </tr>\n",
       "    <tr>\n",
       "      <th>12</th>\n",
       "      <td>Documentary</td>\n",
       "      <td>7910</td>\n",
       "    </tr>\n",
       "    <tr>\n",
       "      <th>13</th>\n",
       "      <td>War</td>\n",
       "      <td>68527</td>\n",
       "    </tr>\n",
       "    <tr>\n",
       "      <th>14</th>\n",
       "      <td>Musical</td>\n",
       "      <td>41533</td>\n",
       "    </tr>\n",
       "    <tr>\n",
       "      <th>15</th>\n",
       "      <td>Mystery</td>\n",
       "      <td>40178</td>\n",
       "    </tr>\n",
       "    <tr>\n",
       "      <th>16</th>\n",
       "      <td>Film-Noir</td>\n",
       "      <td>18261</td>\n",
       "    </tr>\n",
       "    <tr>\n",
       "      <th>17</th>\n",
       "      <td>Western</td>\n",
       "      <td>20683</td>\n",
       "    </tr>\n",
       "  </tbody>\n",
       "</table>\n",
       "</div>"
      ],
      "text/plain": [
       "          Genre   Count\n",
       "0     Animation   43293\n",
       "1    Children's   72186\n",
       "2        Comedy  356580\n",
       "3     Adventure  133953\n",
       "4       Fantasy   36301\n",
       "5       Romance  147523\n",
       "6         Drama  354529\n",
       "7        Action  257457\n",
       "8         Crime   79541\n",
       "9      Thriller  189680\n",
       "10       Horror   76386\n",
       "11       Sci-Fi  157294\n",
       "12  Documentary    7910\n",
       "13          War   68527\n",
       "14      Musical   41533\n",
       "15      Mystery   40178\n",
       "16    Film-Noir   18261\n",
       "17      Western   20683"
      ]
     },
     "execution_count": 10,
     "metadata": {},
     "output_type": "execute_result"
    }
   ],
   "source": [
    "genre_count = {}\n",
    "for genre in genres_list:\n",
    "    x = merged[merged[\"genres\"].str.contains(genre)]\n",
    "    genre_count[genre] = len(x)\n",
    "genre_count_df = pd.DataFrame(genre_count.items(), columns=['Genre', 'Count'])\n",
    "genre_count_df"
   ]
  },
  {
   "cell_type": "code",
   "execution_count": 11,
   "id": "a0968479",
   "metadata": {},
   "outputs": [],
   "source": [
    "# Male and Female reviews seperated.\n",
    "genre_count = {}\n",
    "for genre in genres_list:\n",
    "    x = merged[merged[\"genres\"].str.contains(genre)]\n",
    "    genre_count[genre] = x['gender'].value_counts()\n",
    "genre_count_df = pd.DataFrame.from_dict(genre_count)"
   ]
  },
  {
   "cell_type": "markdown",
   "id": "576fb8f9",
   "metadata": {},
   "source": [
    "QUESTION - 2: \n",
    "\n",
    "Top 5 ranked genres by women on most number of rating."
   ]
  },
  {
   "cell_type": "code",
   "execution_count": 33,
   "id": "083cb573",
   "metadata": {},
   "outputs": [
    {
     "name": "stdout",
     "output_type": "stream",
     "text": [
      "Top 5 Genres for Females: \n"
     ]
    },
    {
     "data": {
      "text/plain": [
       "Drama       98153\n",
       "Comedy      96271\n",
       "Romance     50297\n",
       "Action      45650\n",
       "Thriller    40308\n",
       "Name: F, dtype: int64"
      ]
     },
     "execution_count": 33,
     "metadata": {},
     "output_type": "execute_result"
    }
   ],
   "source": [
    "print(\"Top 5 Genres for Females: \")\n",
    "genre_count_df.loc['F'].sort_values(ascending=False)[:5]"
   ]
  },
  {
   "cell_type": "markdown",
   "id": "4f3aaec3",
   "metadata": {},
   "source": [
    "QUESTION - 3: \n",
    "\n",
    "Top 5 ranked genres by men on most number of rating."
   ]
  },
  {
   "cell_type": "code",
   "execution_count": 14,
   "id": "dcac27aa",
   "metadata": {},
   "outputs": [
    {
     "name": "stdout",
     "output_type": "stream",
     "text": [
      "Top 5 Genres for Males: \n",
      "Comedy      260309\n",
      "Drama       256376\n",
      "Action      211807\n",
      "Thriller    149372\n",
      "Sci-Fi      129894\n",
      "Name: M, dtype: int64\n"
     ]
    }
   ],
   "source": [
    "print(\"Top 5 Genres for Males: \")\n",
    "print(genre_count_df.loc['M'].sort_values(ascending=False)[:5])"
   ]
  },
  {
   "cell_type": "markdown",
   "id": "52f6dd2f",
   "metadata": {},
   "source": [
    "QUESTION-4: \n",
    "\n",
    "Average movie's rating for Comedy genre in each era."
   ]
  },
  {
   "cell_type": "code",
   "execution_count": 36,
   "id": "fc535121",
   "metadata": {},
   "outputs": [
    {
     "name": "stdout",
     "output_type": "stream",
     "text": [
      "Average rating for Comedy genre in the 1970 s:  3.8852724872713558\n",
      "Average rating for Comedy genre in the 1980 s:  3.574682872458999\n",
      "Average rating for Comedy genre in the 1990 s:  3.404011899962749\n",
      "Average rating for Comedy genre in the 2000 s:  3.400386722526587\n"
     ]
    }
   ],
   "source": [
    "x = merged[merged['genres'].str.contains(\"Comedy\")]\n",
    "for era in ['197', '198', '199', '200']:\n",
    "    rating_for_era = x[x['year'].str.contains(era)]\n",
    "    print(\"Average rating for Comedy genre in the\", int(era)*10, \"s: \", rating_for_era['rating'].mean())\n",
    "\n",
    "# INTERESTING OBSERVATION:\n",
    "# No movies available past the year 2000. \n",
    "# So, the average rating for movies from 2000-2009 => average rating for movies released in the year 2000."
   ]
  },
  {
   "cell_type": "markdown",
   "id": "a2ee6182",
   "metadata": {},
   "source": [
    "QUESTION-5: \n",
    "\n",
    "Given a genre and a rating_range(i.e. [3.5, 4]), returns all the movies of that genre and within that rating range sorted by average rating."
   ]
  },
  {
   "cell_type": "code",
   "execution_count": 34,
   "id": "c768cd09",
   "metadata": {},
   "outputs": [
    {
     "data": {
      "text/html": [
       "<div>\n",
       "<style scoped>\n",
       "    .dataframe tbody tr th:only-of-type {\n",
       "        vertical-align: middle;\n",
       "    }\n",
       "\n",
       "    .dataframe tbody tr th {\n",
       "        vertical-align: top;\n",
       "    }\n",
       "\n",
       "    .dataframe thead tr th {\n",
       "        text-align: left;\n",
       "    }\n",
       "\n",
       "    .dataframe thead tr:last-of-type th {\n",
       "        text-align: right;\n",
       "    }\n",
       "</style>\n",
       "<table border=\"1\" class=\"dataframe\">\n",
       "  <thead>\n",
       "    <tr>\n",
       "      <th></th>\n",
       "      <th>rating</th>\n",
       "    </tr>\n",
       "    <tr>\n",
       "      <th></th>\n",
       "      <th>mean</th>\n",
       "    </tr>\n",
       "    <tr>\n",
       "      <th>title</th>\n",
       "      <th></th>\n",
       "    </tr>\n",
       "  </thead>\n",
       "  <tbody>\n",
       "    <tr>\n",
       "      <th>Target (1995)</th>\n",
       "      <td>4.000000</td>\n",
       "    </tr>\n",
       "    <tr>\n",
       "      <th>Heaven's Burning (1997)</th>\n",
       "      <td>4.000000</td>\n",
       "    </tr>\n",
       "    <tr>\n",
       "      <th>Condition Red (1995)</th>\n",
       "      <td>4.000000</td>\n",
       "    </tr>\n",
       "    <tr>\n",
       "      <th>Stranger, The (1994)</th>\n",
       "      <td>4.000000</td>\n",
       "    </tr>\n",
       "    <tr>\n",
       "      <th>Tokyo Fist (1995)</th>\n",
       "      <td>4.000000</td>\n",
       "    </tr>\n",
       "    <tr>\n",
       "      <th>...</th>\n",
       "      <td>...</td>\n",
       "    </tr>\n",
       "    <tr>\n",
       "      <th>Turbo: A Power Rangers Movie (1997)</th>\n",
       "      <td>2.272727</td>\n",
       "    </tr>\n",
       "    <tr>\n",
       "      <th>Best of the Best 3: No Turning Back (1995)</th>\n",
       "      <td>2.222222</td>\n",
       "    </tr>\n",
       "    <tr>\n",
       "      <th>Shopping (1994)</th>\n",
       "      <td>2.200000</td>\n",
       "    </tr>\n",
       "    <tr>\n",
       "      <th>Time Tracers (1995)</th>\n",
       "      <td>2.000000</td>\n",
       "    </tr>\n",
       "    <tr>\n",
       "      <th>Detroit 9000 (1973)</th>\n",
       "      <td>2.000000</td>\n",
       "    </tr>\n",
       "  </tbody>\n",
       "</table>\n",
       "<p>495 rows × 1 columns</p>\n",
       "</div>"
      ],
      "text/plain": [
       "                                              rating\n",
       "                                                mean\n",
       "title                                               \n",
       "Target (1995)                               4.000000\n",
       "Heaven's Burning (1997)                     4.000000\n",
       "Condition Red (1995)                        4.000000\n",
       "Stranger, The (1994)                        4.000000\n",
       "Tokyo Fist (1995)                           4.000000\n",
       "...                                              ...\n",
       "Turbo: A Power Rangers Movie (1997)         2.272727\n",
       "Best of the Best 3: No Turning Back (1995)  2.222222\n",
       "Shopping (1994)                             2.200000\n",
       "Time Tracers (1995)                         2.000000\n",
       "Detroit 9000 (1973)                         2.000000\n",
       "\n",
       "[495 rows x 1 columns]"
      ]
     },
     "execution_count": 34,
     "metadata": {},
     "output_type": "execute_result"
    }
   ],
   "source": [
    "def part5(genre, rating_range):\n",
    "    x = merged[merged['genres'].str.contains(genre)]\n",
    "    x = x[(x['rating'] >= rating_range[0]) & (x['rating'] <= rating_range[1])]\n",
    "    ans = x.groupby('title').agg({'rating':[np.mean]}).sort_values(by=[('rating', 'mean')], ascending=False)\n",
    "    return ans  \n",
    "\n",
    "p5 = part5(\"Action\", [2,4])\n",
    "p5"
   ]
  },
  {
   "cell_type": "markdown",
   "id": "035bf74c",
   "metadata": {},
   "source": [
    "QUESTION-6: \n",
    "\n",
    "Presenting a plot using the dataset."
   ]
  },
  {
   "cell_type": "code",
   "execution_count": 24,
   "id": "34c75c98",
   "metadata": {},
   "outputs": [
    {
     "name": "stdout",
     "output_type": "stream",
     "text": [
      "                1970s     1980s     1990s     2000s\n",
      "Animation    3.540103  3.591174  3.743986  3.388091\n",
      "Children's   3.460241  3.455690  3.279811  3.284507\n",
      "Comedy       3.885272  3.574683  3.404012  3.400387\n",
      "Adventure    3.723703  3.599169  3.247514  3.066234\n",
      "Fantasy      4.181633  3.543659  3.034932  2.414815\n",
      "Romance      3.772608  3.660163  3.500348  3.216760\n",
      "Drama        4.017184  3.791765  3.664912  3.625823\n",
      "Action       3.824759  3.665287  3.307267  3.465275\n",
      "Crime        4.233915  3.661715  3.620257  3.159375\n",
      "Thriller     3.936182  3.666712  3.480683  3.235872\n",
      "Horror       3.677649  3.128832  2.992083  2.876956\n",
      "Sci-Fi       3.677091  3.620464  3.279957  3.145584\n",
      "Documentary  3.625000  4.047778  3.933043  3.523697\n",
      "War          4.051461  3.944061  3.681362  3.750955\n",
      "Musical      3.495520  3.568041  3.463350  3.820000\n",
      "Mystery      4.129243  3.500406  3.461807  2.733102\n",
      "Film-Noir    4.339241  3.954225  3.873613  0.000000\n",
      "Western      3.773097  3.375606  3.351640  0.000000\n"
     ]
    }
   ],
   "source": [
    "# Expanding upon the 4th question, we calculate average ratings all the genres over the eras and see how they \n",
    "# performed and how the people's movie tastes change.\n",
    "plot_data = {}\n",
    "for era in ['197', '198', '199', '200']:\n",
    "    years = str(int(era)*10)+\"s\"\n",
    "    x = merged[merged['year'].str.contains(era)]\n",
    "    for genre in genres_list:\n",
    "        temp = x[x['genres'].str.contains(genre)]\n",
    "        if years not in plot_data:\n",
    "            plot_data[years] = [temp['rating'].mean()]\n",
    "        else:\n",
    "            plot_data[years].append(temp['rating'].mean())\n",
    "\n",
    "plot_data_df = pd.DataFrame(index=genres_list, data=plot_data)\n",
    "plot_data_df.fillna(0, inplace=True)\n",
    "print(plot_data_df)"
   ]
  },
  {
   "cell_type": "code",
   "execution_count": 26,
   "id": "5b11fcd4",
   "metadata": {
    "scrolled": true
   },
   "outputs": [
    {
     "data": {
      "image/png": "[encoded data removed]",
      "text/plain": [
       "<Figure size 1440x2160 with 18 Axes>"
      ]
     },
     "metadata": {
      "needs_background": "light"
     },
     "output_type": "display_data"
    }
   ],
   "source": [
    "columns = ['1970s', '1980s', '1990s', '2000s']\n",
    "\n",
    "fig = plt.figure(figsize=(20,30))\n",
    "colors = plt.rcParams[\"axes.prop_cycle\"]()\n",
    "\n",
    "for i, (name, row) in enumerate(plot_data_df.iterrows()):\n",
    "    ax = plt.subplot(6,3, i+1)\n",
    "    c = next(colors)[\"color\"]\n",
    "    ax.set_title(name)\n",
    "    ax.set_aspect('auto')\n",
    "    ax.set_ylim([0.0, 5.00])\n",
    "    ax.set_ybound(lower=0.0, upper=5.00)\n",
    "    ax.fill_between(columns, row, alpha=0.2, color=c)\n",
    "    ax.plot(columns, row, color=c)\n",
    "plt.show()"
   ]
  },
  {
   "cell_type": "markdown",
   "id": "1112f7d0",
   "metadata": {},
   "source": [
    "Interesting OBSERVATION: \n",
    "\n",
    "As the eras progressed, the ratings of most of the genres has decreased. While some genres saw a more decrease than the others, some genres like Children's, Comedy, Action, and Musical saw an upward trend, making them better than ever before.\n",
    " \n",
    "The reason for this upward trend in my opinion for these genres is because of the rise of animation studios like Pixar, rising popularity for situation comedy/sit-com, and the popularity of some movie franchises like Die Hard, Mission Impossible, and more."
   ]
  }
 ],
 "metadata": {
  "kernelspec": {
   "display_name": "Python 3 (ipykernel)",
   "language": "python",
   "name": "python3"
  },
  "language_info": {
   "codemirror_mode": {
    "name": "ipython",
    "version": 3
   },
   "file_extension": ".py",
   "mimetype": "text/x-python",
   "name": "python",
   "nbconvert_exporter": "python",
   "pygments_lexer": "ipython3",
   "version": "3.9.2"
  }
 },
 "nbformat": 4,
 "nbformat_minor": 5
}
